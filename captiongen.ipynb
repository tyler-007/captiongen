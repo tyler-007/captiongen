{
 "cells": [
  {
   "cell_type": "code",
   "execution_count": 1,
   "metadata": {},
   "outputs": [
    {
     "name": "stderr",
     "output_type": "stream",
     "text": [
      "/Users/aayushjain/Library/Python/3.9/lib/python/site-packages/urllib3/__init__.py:34: NotOpenSSLWarning: urllib3 v2.0 only supports OpenSSL 1.1.1+, currently the 'ssl' module is compiled with 'LibreSSL 2.8.3'. See: https://github.com/urllib3/urllib3/issues/3020\n",
      "  warnings.warn(\n"
     ]
    }
   ],
   "source": [
    "import os\n",
    "import openai\n",
    "from dotenv import load_dotenv, find_dotenv\n",
    "_ = load_dotenv(find_dotenv()) # read local .env file\n",
    "\n",
    "openai.api_key  = os.getenv('OPENAI_API_KEY')"
   ]
  },
  {
   "cell_type": "code",
   "execution_count": 2,
   "metadata": {},
   "outputs": [],
   "source": [
    "def get_completion(prompt, model=\"gpt-3.5-turbo\",temperature=0): # Andrew mentioned that the prompt/ completion paradigm is preferable for this class\n",
    "    messages = [{\"role\": \"user\", \"content\": prompt}]\n",
    "    response = openai.ChatCompletion.create(\n",
    "        model=model,\n",
    "        messages=messages,\n",
    "        temperature=temperature, # this is the degree of randomness of the model's output\n",
    "    )\n",
    "    return response.choices[0].message[\"content\"]"
   ]
  },
  {
   "cell_type": "code",
   "execution_count": 3,
   "metadata": {},
   "outputs": [],
   "source": [
    "IIITian_network=\"\"\" \n",
    "IIITians Network is the largest technical community of all IIITs - Indian Institute of Information Technology\\\n",
    "IIITs are PPP public private partnership colleges in India \\\n",
    "This community has no affiliation to any IIIT, rather it brings along all IIITs \\\n",
    "People from different IIITs try to post recent happenings be it technical, achievement or fest related on IIITians network instagram page \\\n",
    " \"\"\"\n",
    "\n",
    "caption_1 = \"\"\" IIITians Network wishes you and your loved ones a joyous and blessed Eid filled with happiness, togetherness, and countless moments of celebration.\\\n",
    "\n",
    "May this auspicious occasion bring you peace, harmony, and success in all your endeavors. Eid Mubarak! 🌙✨\\\n",
    "\n",
    "\"\"\"\n",
    "\n",
    "\n",
    "caption_2 = \"\"\"\n",
    "Drumroll please🎉🎉\n",
    "The moment we've all been waiting for! We are thrilled to announce the winners of our photography contest.The results of highly awaited IIITians NETWORK PHOTOGRAPHY CONTEST 2023 are out now. This year we have got many responses for this contest,it was so hard to select our single winner therefore we have decided to showcase all best talents with the help of our all new campus review series.\\\n",
    "\n",
    "Until then We hope you like this top 5 captures of different IIIT'S by our talented photographers.\\\n",
    "\n",
    "Capturing moments, capturing hearts❣❣\\\n",
    "\n",
    "Let us know which shot demonstrate the power of images to move and inspire us according to you in the comment section.\\\n",
    " \n",
    "\"\"\"\n",
    "\n",
    "\n",
    "caption_3 = \"\"\"\n",
    "🎓 Welcome to the Indian Institute of Information Technology, Kota! 🌟\\\n",
    "\n",
    "📚 The institute provides quality education in the field of Information Technology, with a focus on innovation and technology-driven learning. 💡\\\n",
    "🌐 The dynamic curriculum equips students with the skills to succeed in the ever-evolving IT industry. \\\n",
    "\n",
    "🏫⚙ Its state-of-the-art facilities and skilled faculty create a conducive learning environment. 🎯\\\n",
    "💻 Whether you're interested in computer science, artificial intelligence, or other IT fields, IIIT Kota offers diverse programs to suit your interests. 🌈\\\n",
    "\"\"\"\n",
    "\n",
    "\n",
    "caption_4 = \"\"\"\n",
    "Let’s raise a toast to 9k! 🎉 We are absolutely thrilled to share the exciting news that the IIITians Network has reached the incredible milestone of 9,000 followers on Instagram! This achievement is a testament to the unwavering support of all the IIITians throughout the nation. We are determined to keep growing our community and achieving many more remarkable milestones together! \\\n",
    "\"\"\"\n",
    "\n",
    "caption_5= \"\"\"\n",
    "🎉 A Resplendent Milestone! 🎓✨ IIIT Guwahati commemorated its 5th Convocation on the illustrious grounds of IIT Guwahati. 🎉 It was a day filled with boundless joy, pride, and inspiration as the remarkable graduates basked in the glory of their accomplishments. 🌟 Join us in congratulating these extraordinary individuals as they embark on their journey towards greatness. 💪 \\\n",
    "    \"\"\"\n",
    "\n",
    "caption_6 = \"\"\" \n",
    "🎉🌟 Congrats IIITians! 🌟🎉\n",
    "The moment we've all been waiting for is here! 📢 The NIRF Rankings for 2023 have been released, and it's time to celebrate our collective achievements! 🥳✨\\\n",
    "\n",
    "We are thrilled to announce that our incredible IIITs have once again showcased their brilliance and excellence. 🌟🎉 The combined efforts of students and faculties alike have led to remarkable positions in the prestigious NIRF Rankings this year. 👏🙌\\\n",
    "\n",
    "Join us in celebrating this momentous occasion! 🎉🙏. Together, we are a force to be reckoned with! 💪🌟 Let's continue shining, striving, and making a positive impact in our respective fields and beyond. 🌍✨\\\n",
    "\"\"\"\n",
    "\n",
    "captions = [caption_1, caption_2, caption_3, caption_4,caption_5,caption_6]\n",
    "\n",
    "\n",
    "problem_statement=\"\"\"\n",
    "Sporlumina'23 is a sports event in iiitbhopal bhopal. The sporlumina'23 was conducted for three days. After the sports their was a amazing dj night which never forgive.\n",
    "\"\"\"\n"
   ]
  },
  {
   "cell_type": "code",
   "execution_count": 4,
   "metadata": {},
   "outputs": [
    {
     "name": "stdout",
     "output_type": "stream",
     "text": [
      "🎉 Get ready to unleash your inner athlete at Sporlumina'23, the ultimate sports event in IIIT Bhopal! 🏆🏅 Join us for three action-packed days of thrilling competitions, adrenaline-pumping matches, and unforgettable moments. 🤩🔥 And that's not all! After the intense sports battles, get ready to dance the night away at the epic DJ night that you'll never forget! 🎶🎉 Don't miss out on this incredible event that combines sports, music, and endless fun. See you there! 🙌😎 #Sporlumina23 #IIITBhopal #SportsEvent #DJNight\n"
     ]
    }
   ],
   "source": [
    "\n",
    "prompt = f\"\"\" \n",
    "You are a content writer in IIITians Network.\\\n",
    "First Know what is IIITians Network.\\\n",
    "What is IIITians Network : ```{IIITian_network}```\n",
    "You task is to analyse the writing style of the content writer through the various captions that have been written uptil now. \\\n",
    "A list is given below. You should deeply analyse it\\\n",
    "captions are : ```{captions}```\\\n",
    "Now, after knowing about IIItians network and the writing style of the content writers, you are given a new task to write the caption for the upcoming post. \\\n",
    "The brief description of the context is given and you must written it in about 50-80 words.\n",
    "Remeber to use relevant emojis.\n",
    "Context : ```{problem_statement}```\n",
    "\"\"\"\n",
    "response = get_completion(prompt)\n",
    "print(response)"
   ]
  }
 ],
 "metadata": {
  "kernelspec": {
   "display_name": "Python 3",
   "language": "python",
   "name": "python3"
  },
  "language_info": {
   "codemirror_mode": {
    "name": "ipython",
    "version": 3
   },
   "file_extension": ".py",
   "mimetype": "text/x-python",
   "name": "python",
   "nbconvert_exporter": "python",
   "pygments_lexer": "ipython3",
   "version": "3.9.6"
  },
  "orig_nbformat": 4
 },
 "nbformat": 4,
 "nbformat_minor": 2
}
